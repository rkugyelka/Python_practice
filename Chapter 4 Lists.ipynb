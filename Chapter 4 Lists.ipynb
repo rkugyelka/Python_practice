{
 "cells": [
  {
   "cell_type": "code",
   "execution_count": 1,
   "metadata": {},
   "outputs": [
    {
     "name": "stdout",
     "output_type": "stream",
     "text": [
      "Ronaldo is the 1. element of the list\n",
      "Messi is the 2. element of the list\n",
      "Raul is the 3. element of the list\n",
      "Zidane is the 4. element of the list\n",
      "Totti is the 5. element of the list\n",
      "Puskas is the 6. element of the list\n",
      "Ramos is the 7. element of the list\n",
      "Ronaldo\n",
      "\n",
      "Messi\n",
      "\n",
      "Raul\n",
      "\n",
      "Zidane\n",
      "\n",
      "Totti\n",
      "\n",
      "Puskas\n",
      "\n",
      "Ramos\n",
      "\n"
     ]
    }
   ],
   "source": [
    "team = [\"Ronaldo\", \"Messi\", \"Raul\", \"Zidane\", \"Totti\", \"Puskas\", \"Ramos\"]\n",
    "\n",
    "for player in team:\n",
    "        print(str(player) + \" is the \" + str(team.index(player)+1) + \". element of the list\")\n",
    "        \n",
    "\n",
    "for playernames in team:\n",
    "    print(str(playernames) + \"\\n\")\n",
    "    \n"
   ]
  },
  {
   "cell_type": "code",
   "execution_count": 2,
   "metadata": {},
   "outputs": [
    {
     "name": "stdout",
     "output_type": "stream",
     "text": [
      "The length is 8\n",
      "The first character is <\n",
      "The length is 33\n",
      "The first character is A\n",
      "The length is 8\n",
      "The first character is <\n",
      "The length is 29\n",
      "The first character is A\n",
      "The length is 8\n",
      "The first character is <\n",
      "The length is 23\n",
      "The first character is A\n"
     ]
    }
   ],
   "source": [
    "# first store a list of lines in the file\n",
    "file = open(\"FASTA_sequence.txt\")\n",
    "all_lines = file.readlines()\n",
    "# print the lengths\n",
    "for line in all_lines:\n",
    "    print(\"The length is \" + str(len(line)))\n",
    "    print(\"The first character is \" + line[0])"
   ]
  },
  {
   "cell_type": "code",
   "execution_count": 3,
   "metadata": {},
   "outputs": [
    {
     "name": "stdout",
     "output_type": "stream",
     "text": [
      "42\n",
      "37\n",
      "48\n",
      "33\n",
      "47\n"
     ]
    }
   ],
   "source": [
    "file = open(\"C:/Users/mester.eva/Documents/Python/exercises and examples/lists_and_loops/exercises/input.txt\")\n",
    "\n",
    "all_lines = file.readlines()\n",
    "new_sequences = open(\"trimmed_new.txt\", \"w\")\n",
    "\n",
    "for lines in all_lines:\n",
    "    new_sequences.write((str(lines[14:])))\n",
    "    print(str(len(lines[14:].rstrip(\"\\n\"))))\n"
   ]
  },
  {
   "cell_type": "code",
   "execution_count": 28,
   "metadata": {},
   "outputs": [
    {
     "name": "stdout",
     "output_type": "stream",
     "text": [
      "TCGATCGTACCGTCGACGATGCTACGATCGTCGATCGTAGTCGATCATCGATCGATCGACTGATCGATCGATCGATCGATCGATATCGATCGATATCATCGATGCATCGATCATCGATCGATCGATCGATCGATCGATCATATGTCAGTCGATGCATCGTAGCATCGTATAGTAGCTACGTAGCTACGATCGATCGATCGATCGTAGCTAGCTAGCTAGATCGATCATCATCGTAGCTAGCTCGACTAGCTACGTACGATCGATGCATCGATCGTAGCTAGTACGATCGCGTAGCTAGCATGCTACGTAGATCGATCGATGCATGCTAGCTAGCTAGCTACGATCGATCGATCGATCGATCGATCGATCGATCGATCGATCGTAGCTAGCTACGATCGATGCTACGTAGATCGATCGCTAGTAGATCGATCGCTAGCTAGCTGACTAGTACGCTGCTAGTAGTCAGCTAGATCGATGCTAGTCA\n",
      "\n",
      "[5, 58]\n",
      "Coding:CGTACCGTCGACGATGCTACGATCGTCGATCGTAGTCGATCATCGATCGATCG\n",
      "[72, 133]\n",
      "Coding:CGATCGATCGATATCGATCGATATCATCGATGCATCGATCATCGATCGATCGATCGATCGA\n",
      "[190, 276]\n",
      "Coding:CGATCGATCGATCGTAGCTAGCTAGCTAGATCGATCATCATCGTAGCTAGCTCGACTAGCTACGTACGATCGATGCATCGATCGTA\n",
      "[340, 398]\n",
      "Coding:CGATCGATCGATCGATCGATCGATCGATCGATCGATCGATCGTAGCTAGCTACGATCG\n",
      "The concatenated coding sequences are: CGTACCGTCGACGATGCTACGATCGTCGATCGTAGTCGATCATCGATCGATCGCGATCGATCGATATCGATCGATATCATCGATGCATCGATCATCGATCGATCGATCGATCGACGATCGATCGATCGTAGCTAGCTAGCTAGATCGATCATCATCGTAGCTAGCTCGACTAGCTACGTACGATCGATGCATCGATCGTACGATCGATCGATCGATCGATCGATCGATCGATCGATCGATCGTAGCTAGCTACGATCG\n"
     ]
    }
   ],
   "source": [
    "# open input files and create a file to use for sava later\n",
    "file = open(\"C:/Users/mester.eva/Documents/Python/exercises and examples/lists_and_loops/exercises/exons.txt\")\n",
    "sequences = open(\"C:/Users/mester.eva/Documents/Python/exercises and examples/lists_and_loops/exercises/genomic_dna.txt\")\n",
    "coding = open(\"coding_sequences.txt\", \"w\")\n",
    "\n",
    "# read in the sequence contents\n",
    "dna = sequences.read()\n",
    "print(dna)\n",
    "\n",
    "for lines in file:\n",
    "    strip_lines = lines.rstrip(\"\\n\") # delete newlines \n",
    "    new_lines = strip_lines.split(\",\") # split the positions\n",
    "    int_element1 = int(new_lines[0]) # integer\n",
    "    int_element2 = int(new_lines[1]) # integer\n",
    "    exon_list = [int_element1, int_element2] # produce a list\n",
    "    print(exon_list)\n",
    "    spliced_dna = dna[int_element1:int_element2] # slice based on the listed positions\n",
    "    print(\"Coding:\" + spliced_dna)\n",
    "    coding_sequences = coding.write(spliced_dna) # write to file\n",
    "    \n",
    "coding.close()\n",
    "    \n",
    "test = open(\"coding_sequences.txt\") \n",
    "test_content = test.read()\n",
    "print(\"The concatenated coding sequences are: \" + test_content)\n",
    "    \n"
   ]
  },
  {
   "cell_type": "code",
   "execution_count": null,
   "metadata": {},
   "outputs": [],
   "source": []
  },
  {
   "cell_type": "code",
   "execution_count": null,
   "metadata": {},
   "outputs": [],
   "source": []
  }
 ],
 "metadata": {
  "kernelspec": {
   "display_name": "Python 3",
   "language": "python",
   "name": "python3"
  },
  "language_info": {
   "codemirror_mode": {
    "name": "ipython",
    "version": 3
   },
   "file_extension": ".py",
   "mimetype": "text/x-python",
   "name": "python",
   "nbconvert_exporter": "python",
   "pygments_lexer": "ipython3",
   "version": "3.8.5"
  }
 },
 "nbformat": 4,
 "nbformat_minor": 4
}
