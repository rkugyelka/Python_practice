{
 "cells": [
  {
   "cell_type": "code",
   "execution_count": 10,
   "metadata": {},
   "outputs": [
    {
     "name": "stdout",
     "output_type": "stream",
     "text": [
      "TGACTAGCTAATGCATATCATAAACGATAGTATGTATATATAGCTACGCAAGTA\n"
     ]
    }
   ],
   "source": [
    "dna = \"ACTGATCGATTACGTATAGTATTTGCTATCATACATATATATCGATGCGTTCAT\"\n",
    "replace_1 = dna.replace(\"A\", \"t\")\n",
    "replace_2 = replace_1.replace(\"G\", \"c\")\n",
    "replace_3 = replace_2.replace(\"C\", \"g\")\n",
    "replace_4 = replace_3.replace(\"T\", \"a\")\n",
    "complement = replace_4.upper()\n",
    "print(complement)"
   ]
  },
  {
   "cell_type": "code",
   "execution_count": 22,
   "metadata": {},
   "outputs": [
    {
     "name": "stdout",
     "output_type": "stream",
     "text": [
      "21\n",
      "G\n",
      "The first segment is ACTGATCGATTACGTATAGTAG and its length is 22\n",
      "The second segment is AATTCTATCATACATATATATCGATGCGTTCAT and its length is 33\n"
     ]
    }
   ],
   "source": [
    "dna = \"ACTGATCGATTACGTATAGTAGAATTCTATCATACATATATATCGATGCGTTCAT\"\n",
    "restr_loc = dna.find(\"GAATTC\")\n",
    "print(restr_loc)\n",
    "print(dna[21])\n",
    "first_segment = dna[0:22]\n",
    "second_segment = dna[22:]\n",
    "print(\"The first segment is \" + first_segment + ' and its length is '+ str(len(first_segment)))\n",
    "print(\"The second segment is \" + second_segment + \" and its length is \" + str(len(second_segment)))"
   ]
  },
  {
   "cell_type": "code",
   "execution_count": 44,
   "metadata": {},
   "outputs": [
    {
     "name": "stdout",
     "output_type": "stream",
     "text": [
      "ATCGATCGATCGATCGACTGACTAGTCATAGCTATGCATGTAGCTACTCGATCGATCGATCGATTCATCGATCGATATCGATGCATCGACTACTAT\n",
      "The coding regions of this sequence are: ATCGATCGATCGATCGACTGACTAGTCATAGCTATGCATGTAGCTACTCGATCGATCGATCGAT and TCATCGATCGATATCGATGCATCGACTACTAT\n",
      "78.04878048780488\n",
      "ATCGATCGATCGATCGACTGACTAGTCATAGCTATGCATGTAGCTACTCGATCGATCGATCGATcgatcgatcgatcgatcgatcatgctaTCATCGATCGATATCGATGCATCGACTACTAT\n",
      "T\n"
     ]
    }
   ],
   "source": [
    "genomic = \"ATCGATCGATCGATCGACTGACTAGTCATAGCTATGCATGTAGCTACTCGATCGATCGATCGATCGATCGATCGATCGATCGATCATGCTATCATCGATCGATATCGATGCATCGACTACTAT\"\n",
    "\n",
    "#print out only the coding regions\n",
    "exon1 = genomic[0:64]\n",
    "exon2 = genomic[91:]\n",
    "coding_regions = exon1 + exon2\n",
    "print(coding_regions)\n",
    "print(\"The coding regions of this sequence are: \" + exon1 + \" and \" + exon2) \n",
    "\n",
    "#what is the percentage of coding regions\n",
    "percentage_coding = (len(coding_regions)/len(genomic))*100\n",
    "print(percentage_coding)\n",
    "\n",
    "#coding regions uppercase, introns lowercase\n",
    "coding1 = exon1.upper()\n",
    "coding2 = exon2.upper()\n",
    "intron = genomic[64:91].lower()\n",
    "print(coding1 + intron + coding2)\n",
    "\n",
    "print(genomic[91])\n",
    "\n",
    "#write these to files\n",
    "#open in write mode\n",
    "coding_file = open(\"coding.txt\", \"w\")\n",
    "noncoding_file = open(\"noncoding.txt\", \"w\")\n",
    "\n",
    "#write\n",
    "coding_file.write(str(coding_regions))\n",
    "noncoding_file.write(str(intron.upper()))\n",
    "\n",
    "#close\n",
    "coding_file.close()\n",
    "noncoding_file.close()\n",
    "\n"
   ]
  },
  {
   "cell_type": "code",
   "execution_count": 65,
   "metadata": {},
   "outputs": [],
   "source": [
    "#write FASTA files\n",
    "\n",
    "combined_FASTA = open(\"FASTA_sequence.txt\", \"w\")\n",
    "\n",
    "#inputs\n",
    "header1 = \"ABC123\"\n",
    "header2 = \"DEF456\"\n",
    "header3 = \"HIJ789\"\n",
    "sequence1 = \"ATCGTACGATCGATCGATCGCTAGACGTATCG\"\n",
    "sequence2 = \"actgatcgacgatcgatcgatcacgact\"\n",
    "sequence3 = \"ACTGAC-ACTGT--ACTGTA----CATGTG\"\n",
    "sequence3_clean = sequence3.replace(\"-\", \"\")\n",
    "\n",
    "#combine and write\n",
    "content = \"<\" + header1 + \"\\n\" + sequence1.upper() + \"\\n\" + \"<\" + header2 + \"\\n\" + sequence2.upper() + \"\\n\" + \"<\" + header3 + \"\\n\" + sequence3_clean\n",
    "combined_FASTA.write(str(content))\n",
    "combined_FASTA.close()\n",
    "\n",
    "#write separate files\n",
    "\n",
    "filename1 = header1 + \".fasta\"\n",
    "filename2 = header2 + \".fasta\"\n",
    "filename3 = header3 + \".fasta\"\n",
    "sequence1_file = open(str(filename1), \"w\")\n",
    "sequence2_file = open(str(filename2), \"w\")\n",
    "sequence3_file = open(str(filename3), \"w\")\n",
    "sequence1_file.write(str(\"<\" + header1 + \"\\n\" + sequence1.upper())) \n",
    "sequence2_file.write(str(\"<\" + header2 + \"\\n\" + sequence2.upper())) \n",
    "sequence3_file.write(str(\"<\" + header3 + \"\\n\" + sequence3_clean)) \n",
    "sequence1_file.close()\n",
    "sequence2_file.close()\n",
    "sequence3_file.close()\n"
   ]
  },
  {
   "cell_type": "code",
   "execution_count": null,
   "metadata": {},
   "outputs": [],
   "source": []
  },
  {
   "cell_type": "code",
   "execution_count": null,
   "metadata": {},
   "outputs": [],
   "source": []
  }
 ],
 "metadata": {
  "kernelspec": {
   "display_name": "Python 3",
   "language": "python",
   "name": "python3"
  },
  "language_info": {
   "codemirror_mode": {
    "name": "ipython",
    "version": 3
   },
   "file_extension": ".py",
   "mimetype": "text/x-python",
   "name": "python",
   "nbconvert_exporter": "python",
   "pygments_lexer": "ipython3",
   "version": "3.8.5"
  }
 },
 "nbformat": 4,
 "nbformat_minor": 4
}
